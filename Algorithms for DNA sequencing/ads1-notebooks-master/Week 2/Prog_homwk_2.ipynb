{
 "cells": [
  {
   "cell_type": "code",
   "execution_count": 30,
   "metadata": {},
   "outputs": [],
   "source": [
    "# Download excerpt of human chromosome 1\n",
    "import wget\n",
    "url = 'http://d28rh4a8wq0iu5.cloudfront.net/ads1/data/chr1.GRCh38.excerpt.fasta'\n",
    "filename = wget.download(url)\n",
    "\n",
    "# Download Boyer-Moore preprocessing file\n",
    "url = 'http://d28rh4a8wq0iu5.cloudfront.net/ads1/code/bm_preproc.py'\n",
    "filename2 = wget.download(url)"
   ]
  },
  {
   "cell_type": "markdown",
   "metadata": {},
   "source": [
    "First, let's implement the Boyer-Moore matching with counts:"
   ]
  },
  {
   "cell_type": "code",
   "execution_count": 31,
   "metadata": {},
   "outputs": [],
   "source": [
    "import bm_preproc\n",
    "p = 'word'\n",
    "t = 'there would have been a time for such a word'\n",
    "lowercase_alphabet = 'abcdefghijklmnopqrstuvwxyz '\n",
    "p_bm = bm_preproc.BoyerMoore(p, lowercase_alphabet)"
   ]
  },
  {
   "cell_type": "code",
   "execution_count": 47,
   "metadata": {},
   "outputs": [],
   "source": [
    "def boyer_moore_with_counts(p, p_bm, t):\n",
    "    \"\"\" Do Boyer-Moore matching with count \"\"\"\n",
    "    i = 0\n",
    "    occurrences = []\n",
    "    num_alignments = 0\n",
    "    num_character_comparisons = 0\n",
    "    while i < len(t) - len(p) + 1:\n",
    "        shift = 1\n",
    "        mismatched = False\n",
    "        for j in range(len(p)-1, -1, -1):\n",
    "            num_character_comparisons += 1\n",
    "            if p[j] != t[i+j]:\n",
    "                skip_bc = p_bm.bad_character_rule(j, t[i+j])\n",
    "                skip_gs = p_bm.good_suffix_rule(j)\n",
    "                shift = max(shift, skip_bc, skip_gs)\n",
    "                mismatched = True\n",
    "                num_alignments += 1\n",
    "                break\n",
    "        if not mismatched:\n",
    "            occurrences.append(i)\n",
    "            skip_gs = p_bm.match_skip()\n",
    "            shift = max(shift, skip_gs)\n",
    "            num_alignments += 1\n",
    "        i += shift\n",
    "    return occurrences, num_alignments, num_character_comparisons"
   ]
  },
  {
   "cell_type": "code",
   "execution_count": 48,
   "metadata": {},
   "outputs": [
    {
     "name": "stdout",
     "output_type": "stream",
     "text": [
      "[40] 12 15\n"
     ]
    }
   ],
   "source": [
    "p = 'word'\n",
    "t = 'there would have been a time for such a word'\n",
    "lowercase_alphabet = 'abcdefghijklmnopqrstuvwxyz '\n",
    "p_bm = bm_preproc.BoyerMoore(p, lowercase_alphabet)\n",
    "occurrences, num_alignments, num_character_comparisons = boyer_moore_with_counts(p, p_bm, t)\n",
    "print(occurrences, num_alignments, num_character_comparisons)"
   ]
  },
  {
   "cell_type": "code",
   "execution_count": 49,
   "metadata": {},
   "outputs": [
    {
     "name": "stdout",
     "output_type": "stream",
     "text": [
      "[0, 19] 5 18\n"
     ]
    }
   ],
   "source": [
    "p = 'needle'\n",
    "t = 'needle need noodle needle'\n",
    "lowercase_alphabet = 'abcdefghijklmnopqrstuvwxyz '\n",
    "p_bm = bm_preproc.BoyerMoore(p, lowercase_alphabet)\n",
    "occurrences, num_alignments, num_character_comparisons = boyer_moore_with_counts(p, p_bm, t)\n",
    "print(occurrences, num_alignments, num_character_comparisons)"
   ]
  },
  {
   "cell_type": "markdown",
   "metadata": {},
   "source": [
    "Next, the naive exact matching with counts:"
   ]
  },
  {
   "cell_type": "code",
   "execution_count": 53,
   "metadata": {},
   "outputs": [],
   "source": [
    "def naive_with_counts(p, t):\n",
    "    occurrences = []\n",
    "    num_alignments = 0\n",
    "    num_character_comparisons = 0\n",
    "    for i in range(len(t) - len(p) + 1):  # loop over alignments\n",
    "        match = True\n",
    "        for j in range(len(p)):  # loop over characters\n",
    "            num_character_comparisons += 1\n",
    "            if t[i+j] != p[j]:  # compare characters\n",
    "                match = False\n",
    "                num_alignments += 1\n",
    "                break\n",
    "        if match:\n",
    "            occurrences.append(i)  # all chars matched; record\n",
    "            num_alignments += 1\n",
    "    return occurrences, num_alignments, num_character_comparisons"
   ]
  },
  {
   "cell_type": "code",
   "execution_count": 54,
   "metadata": {},
   "outputs": [
    {
     "name": "stdout",
     "output_type": "stream",
     "text": [
      "[40] 41 46\n"
     ]
    }
   ],
   "source": [
    "p = 'word'\n",
    "t = 'there would have been a time for such a word'\n",
    "occurrences, num_alignments, num_character_comparisons = naive_with_counts(p, t)\n",
    "print(occurrences, num_alignments, num_character_comparisons)"
   ]
  },
  {
   "cell_type": "code",
   "execution_count": 55,
   "metadata": {},
   "outputs": [
    {
     "name": "stdout",
     "output_type": "stream",
     "text": [
      "[0, 19] 20 35\n"
     ]
    }
   ],
   "source": [
    "p = 'needle'\n",
    "t = 'needle need noodle needle'\n",
    "occurrences, num_alignments, num_character_comparisons = naive_with_counts(p, t)\n",
    "print(occurrences, num_alignments, num_character_comparisons)"
   ]
  },
  {
   "cell_type": "markdown",
   "metadata": {},
   "source": [
    "Now that we have our two working matching functions, we can start on the actual assingment"
   ]
  },
  {
   "cell_type": "code",
   "execution_count": 56,
   "metadata": {},
   "outputs": [],
   "source": [
    "# Read in the downloaded genome\n",
    "def readGenome(filename):\n",
    "    genome = ''\n",
    "    with open(filename, 'r') as f:\n",
    "        for line in f:\n",
    "            # ignore header line with genome information\n",
    "            if not line[0] == '>':\n",
    "                genome += line.rstrip()\n",
    "    return genome\n",
    "\n",
    "genome = readGenome('./chr1.GRCh38.excerpt.fasta')"
   ]
  },
  {
   "cell_type": "markdown",
   "metadata": {},
   "source": [
    "**Question 1**\n",
    "How many alignments does the naive exact matching algorithm try when matching the string *GGCGCGGTGGCTCACGCCTGTAATCCCAGCACTTTGGGAGGCCGAGG* (derived from human Alu sequences) to the excerpt of human chromosome 1?  (Don't consider reverse complements.)"
   ]
  },
  {
   "cell_type": "code",
   "execution_count": 57,
   "metadata": {},
   "outputs": [
    {
     "data": {
      "text/plain": [
       "([56922], 799954, 984143)"
      ]
     },
     "execution_count": 57,
     "metadata": {},
     "output_type": "execute_result"
    }
   ],
   "source": [
    "p = 'GGCGCGGTGGCTCACGCCTGTAATCCCAGCACTTTGGGAGGCCGAGG'\n",
    "naive_with_counts(p,genome)"
   ]
  },
  {
   "cell_type": "markdown",
   "metadata": {},
   "source": [
    "**Question 2**  \n",
    "How many character comparisons does the naive exact matching algorithm try when matching the string *GGCGCGGTGGCTCACGCCTGTAATCCCAGCACTTTGGGAGGCCGAGG* (derived from human Alu sequences) to the excerpt of human chromosome 1?  (Don't consider reverse complements.)"
   ]
  },
  {
   "cell_type": "code",
   "execution_count": 58,
   "metadata": {},
   "outputs": [
    {
     "data": {
      "text/plain": [
       "([56922], 799954, 984143)"
      ]
     },
     "execution_count": 58,
     "metadata": {},
     "output_type": "execute_result"
    }
   ],
   "source": [
    "p = 'GGCGCGGTGGCTCACGCCTGTAATCCCAGCACTTTGGGAGGCCGAGG'\n",
    "naive_with_counts(p,genome)"
   ]
  },
  {
   "cell_type": "markdown",
   "metadata": {},
   "source": [
    "**Question 3**  \n",
    "How many alignments does Boyer-Moore try when matching the string *GGCGCGGTGGCTCACGCCTGTAATCCCAGCACTTTGGGAGGCCGAGG* (derived from human Alu sequences) to the excerpt of human chromosome 1?  (Don't consider reverse complements.)"
   ]
  },
  {
   "cell_type": "code",
   "execution_count": 59,
   "metadata": {},
   "outputs": [
    {
     "name": "stdout",
     "output_type": "stream",
     "text": [
      "[56922] 127974 165191\n"
     ]
    }
   ],
   "source": [
    "p = 'GGCGCGGTGGCTCACGCCTGTAATCCCAGCACTTTGGGAGGCCGAGG'\n",
    "lowercase_alphabet = 'ATGC '\n",
    "p_bm = bm_preproc.BoyerMoore(p, lowercase_alphabet)\n",
    "occurrences, num_alignments, num_character_comparisons = boyer_moore_with_counts(p, p_bm, genome)\n",
    "print(occurrences, num_alignments, num_character_comparisons)"
   ]
  },
  {
   "cell_type": "markdown",
   "metadata": {},
   "source": [
    "**Question 4**\n",
    "Index-assisted approximate matching. In practicals, we built a Python class called **Index**\n",
    "\n",
    "implementing an ordered-list version of the k-mer index."
   ]
  },
  {
   "cell_type": "code",
   "execution_count": 139,
   "metadata": {},
   "outputs": [
    {
     "data": {
      "text/plain": [
       "[23]"
      ]
     },
     "execution_count": 139,
     "metadata": {},
     "output_type": "execute_result"
    }
   ],
   "source": [
    "import kmer_index\n",
    "t=\"lets test out the kmer class function\"\n",
    "eightmer = kmer_index.Index(t, k = 8)\n",
    "p = \"class functiin\"\n",
    "eightmer.query(p)\n"
   ]
  },
  {
   "cell_type": "code",
   "execution_count": 145,
   "metadata": {},
   "outputs": [
    {
     "data": {
      "text/plain": [
       "[(' class f', 22),\n",
       " (' functio', 28),\n",
       " (' kmer cl', 17),\n",
       " (' out the', 9),\n",
       " (' test ou', 4),\n",
       " (' the kme', 13),\n",
       " ('ass func', 25),\n",
       " ('class fu', 23),\n",
       " ('e kmer c', 16),\n",
       " ('er class', 20),\n",
       " ('est out ', 6),\n",
       " ('ets test', 1),\n",
       " ('function', 29),\n",
       " ('he kmer ', 15),\n",
       " ('kmer cla', 18),\n",
       " ('lass fun', 24),\n",
       " ('lets tes', 0),\n",
       " ('mer clas', 19),\n",
       " ('out the ', 10),\n",
       " ('r class ', 21),\n",
       " ('s functi', 27),\n",
       " ('s test o', 3),\n",
       " ('ss funct', 26),\n",
       " ('st out t', 7),\n",
       " ('t out th', 8),\n",
       " ('t the km', 12),\n",
       " ('test out', 5),\n",
       " ('the kmer', 14),\n",
       " ('ts test ', 2),\n",
       " ('ut the k', 11)]"
      ]
     },
     "execution_count": 145,
     "metadata": {},
     "output_type": "execute_result"
    }
   ],
   "source": [
    "t=\"lets test out the kmer class function\"\n",
    "n_mer_index = kmer_index.Index(t, k = 8)\n",
    "p = \"class functiin\"\n",
    "mm = 2\n",
    "\n",
    "#p[0], n_mer_index.index[1][0][0]\n",
    "n_mer_index.index"
   ]
  },
  {
   "cell_type": "code",
   "execution_count": 149,
   "metadata": {},
   "outputs": [
    {
     "name": "stdout",
     "output_type": "stream",
     "text": [
      " class f\n"
     ]
    },
    {
     "data": {
      "text/plain": [
       "([], [23])"
      ]
     },
     "execution_count": 149,
     "metadata": {},
     "output_type": "execute_result"
    }
   ],
   "source": [
    "t=\"lets test out the kmer class function\"\n",
    "n_mer_index = kmer_index.Index(t, k = 8)\n",
    "p = \"class functiin\"\n",
    "mm = 2\n",
    "\n",
    "def naive_2mm(p, n_mer_index):\n",
    "    occurrences = []\n",
    "    # switch so the pattern is the text\n",
    "    # and the kmer index of the text is the pattern\n",
    "    # This is needed when len(p) > k\n",
    "    t = p\n",
    "    for index in n_mer_index.index:\n",
    "        p = index[0]\n",
    "        print(p)\n",
    "        for i in range(len(t) - len(p) + 1):  # loop over alignments\n",
    "            match = True\n",
    "            mismatch = 0\n",
    "            for j in range(len(p)):  # loop over characters\n",
    "                if t[i+j] != p[j]:\n",
    "                    mismatch += 1\n",
    "                    if mismatch > 2:\n",
    "                        match = False\n",
    "                        break\n",
    "            if match:\n",
    "                occurrences.append(index[1])  # all chars matched; record\n",
    "        return occurrences\n",
    "\n",
    "naive_2mm(p,n_mer_index), n_mer_index.query(p)"
   ]
  },
  {
   "cell_type": "code",
   "execution_count": 150,
   "metadata": {},
   "outputs": [
    {
     "name": "stdout",
     "output_type": "stream",
     "text": [
      " class f\n",
      " functio\n",
      " kmer cl\n",
      " out the\n",
      " test ou\n",
      " the kme\n",
      "ass func\n",
      "class fu\n",
      "e kmer c\n",
      "er class\n",
      "est out \n",
      "ets test\n",
      "function\n",
      "he kmer \n",
      "kmer cla\n",
      "lass fun\n",
      "lets tes\n",
      "mer clas\n",
      "out the \n",
      "r class \n",
      "s functi\n",
      "s test o\n",
      "ss funct\n",
      "st out t\n",
      "t out th\n",
      "t the km\n",
      "test out\n",
      "the kmer\n",
      "ts test \n",
      "ut the k\n"
     ]
    }
   ],
   "source": [
    "for index in n_mer_index.index:\n",
    "    print(index[0])\n",
    "    len(t) - len(p) + 1\n",
    "\n"
   ]
  },
  {
   "cell_type": "markdown",
   "metadata": {},
   "source": [
    "Double check with naive 2 mismatch matching"
   ]
  },
  {
   "cell_type": "code",
   "execution_count": 112,
   "metadata": {},
   "outputs": [],
   "source": [
    "def naive_2mm(p, t):\n",
    "    occurrences = []\n",
    "    for i in range(len(t) - len(p) + 1):  # loop over alignments\n",
    "        match = True\n",
    "        mismatch = 0\n",
    "        for j in range(len(p)):  # loop over characters\n",
    "            if t[i+j] != p[j]:\n",
    "                mismatch += 1\n",
    "                if mismatch > 2:\n",
    "                    match = False\n",
    "                    break\n",
    "        if match:\n",
    "            occurrences.append(i)  # all chars matched; record\n",
    "    return occurrences"
   ]
  },
  {
   "cell_type": "code",
   "execution_count": 114,
   "metadata": {},
   "outputs": [
    {
     "data": {
      "text/plain": [
       "19"
      ]
     },
     "execution_count": 114,
     "metadata": {},
     "output_type": "execute_result"
    }
   ],
   "source": [
    "p = 'GGCGCGGTGGCTCACGCCTGTAAT'\n",
    "len(naive_2mm(p,genome))"
   ]
  }
 ],
 "metadata": {
  "kernelspec": {
   "display_name": "Python 3.9.7 ('Bioinformatics')",
   "language": "python",
   "name": "python3"
  },
  "language_info": {
   "codemirror_mode": {
    "name": "ipython",
    "version": 3
   },
   "file_extension": ".py",
   "mimetype": "text/x-python",
   "name": "python",
   "nbconvert_exporter": "python",
   "pygments_lexer": "ipython3",
   "version": "3.9.7"
  },
  "orig_nbformat": 4,
  "vscode": {
   "interpreter": {
    "hash": "a3a70b1aa064f1775391df4556c4c9b3ea49b2a6ad89e89c5af40cd12cc200b6"
   }
  }
 },
 "nbformat": 4,
 "nbformat_minor": 2
}
